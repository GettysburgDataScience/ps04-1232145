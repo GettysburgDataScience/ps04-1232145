{
 "cells": [
  {
   "cell_type": "markdown",
   "id": "83177ee9",
   "metadata": {},
   "source": [
    "Huy Ngo - Section C"
   ]
  },
  {
   "cell_type": "markdown",
   "id": "a1b00660-589c-4adf-91a5-c2875670a724",
   "metadata": {},
   "source": [
    "DS 256 Data Science Programming, Fall 2024\n",
    "\n",
    "Prof Eatai Roth\n",
    "\n",
    "## Problem Set 4\n",
    "Due 11/4/2024 by 5p"
   ]
  },
  {
   "cell_type": "markdown",
   "id": "34ee7898",
   "metadata": {},
   "source": [
    "### Problem 1\n",
    "Write a function ```greaterThan(A, lower_lim)``` that takes as an argument a numpy array A and a number lower_lim and returns an array with every entry less than or equal to lower_lim replaced by zero. That is to say, only the numbers strictly greater than lower_lim remain, the rest are 0."
   ]
  },
  {
   "cell_type": "code",
   "execution_count": 14,
   "id": "6c0848ae",
   "metadata": {},
   "outputs": [],
   "source": [
    "'''your code here'''\n",
    "import numpy as np\n",
    "\n",
    "def greaterThan(A, lower_lim):\n",
    "    result = np.copy(A)\n",
    "    result[result <= lower_lim] = 0\n",
    "    return result\n"
   ]
  },
  {
   "cell_type": "code",
   "execution_count": 15,
   "id": "a57c2f50",
   "metadata": {},
   "outputs": [
    {
     "name": "stdout",
     "output_type": "stream",
     "text": [
      "You passed all the tests!\n"
     ]
    }
   ],
   "source": [
    "A = np.array([1, 2, 3, 4, 5, 6, 7, 8, 9])\n",
    "B = np.array([[-1, 1], [2, -2], [0, 3]])\n",
    "C = np.array([[101.1, 100, 99.9], [99.8, 100.1, 98.9], [103.2, 99, 98]])\n",
    "\n",
    "assert np.all(greaterThan(A, 5) == np.array([0, 0, 0, 0, 0, 6, 7, 8, 9]))\n",
    "assert np.all(greaterThan(B, 0) == np.array([[0, 1], [2, 0], [0, 3]]))\n",
    "assert np.all(greaterThan(C, 100) == np.array([[101.1, 0, 0], [0, 100.1, 0], [103.2, 0, 0]]))\n",
    "\n",
    "print(\"You passed all the tests!\")"
   ]
  },
  {
   "cell_type": "markdown",
   "id": "878a3744",
   "metadata": {},
   "source": [
    "### Problem 2\n",
    "Write a function ```subtractMean(A)``` that takes as an input the numpy array and returns the array with the mean of all the values subtracted from every element."
   ]
  },
  {
   "cell_type": "code",
   "execution_count": 16,
   "id": "c40ea21b",
   "metadata": {},
   "outputs": [],
   "source": [
    "'''your code here'''\n",
    "def subtractMean(A):\n",
    "    mean_value = np.mean(A)\n",
    "    result = A - mean_value\n",
    "    return result"
   ]
  },
  {
   "cell_type": "markdown",
   "id": "8c36e69e",
   "metadata": {},
   "source": [
    "If the tests below aren't passing, check the values of A, B, and C. These should be the same as in the test for Problem 1. If the values in these arrays have changed, why might that be?"
   ]
  },
  {
   "cell_type": "code",
   "execution_count": 17,
   "id": "eee6cfea",
   "metadata": {},
   "outputs": [
    {
     "name": "stdout",
     "output_type": "stream",
     "text": [
      "You passed all the tests!\n"
     ]
    }
   ],
   "source": [
    "assert np.isclose(subtractMean(A), np.array([-4., -3., -2., -1.,  0.,  1.,  2.,  3.,  4.])).all()\n",
    "assert np.isclose(subtractMean(B), np.array([[-1.5,  0.5],[ 1.5, -2.5],[-0.5,  2.5]])).all()\n",
    "assert np.isclose(subtractMean(C), np.array([[ 1.1,  0. , -0.1],[-0.2,  0.1, -1.1],[ 3.2, -1. , -2. ]])).all()\n",
    "\n",
    "print(\"You passed all the tests!\")\n"
   ]
  },
  {
   "cell_type": "markdown",
   "id": "50e5f128",
   "metadata": {},
   "source": [
    "### Problem 3\n",
    "\n",
    "Write a function ```arrayEdges``` that takes as an input an array and returns a 1-D array of all the elements on the edges of the array starting at the upper left corner and working around clockwise. Do not repeat that first element. If the original array is not 2-D, print('Error') and return -1.\n",
    "\n",
    "*Hint*: Get the shape of the array as height and width, calculate the perimeter (remember not to double count the corners), and make an array of zeros the size of the perimeter. Then fill that array.\n",
    "\n",
    "*Hint 2*: The length of the shape of a 2-D array is 2.\n",
    "\n",
    "*Hint 3*: ```dA = A.dtype``` is the data type of A. ```np.zeros().astype(dA)``` creates an array of that type (if A has strings, this will make an array of '0')."
   ]
  },
  {
   "cell_type": "code",
   "execution_count": 18,
   "id": "6165dcb5",
   "metadata": {},
   "outputs": [],
   "source": [
    "def arrayEdges(A):\n",
    "    if A.ndim != 2:\n",
    "        print('Error')\n",
    "        return -1\n",
    "    \n",
    "    height, width = A.shape\n",
    "    \n",
    "    if height == 1:\n",
    "        return A[0]\n",
    "    if width == 1:\n",
    "        return A.flatten()\n",
    "    \n",
    "    edge_elements = []\n",
    "    \n",
    "    edge_elements.extend(A[0, :])\n",
    "    \n",
    "    edge_elements.extend(A[1:, -1])\n",
    "    \n",
    "    edge_elements.extend(A[-1, -2::-1])\n",
    "    \n",
    "    if height > 2:\n",
    "        edge_elements.extend(A[-2:0:-1, 0])\n",
    "    \n",
    "    return np.array(edge_elements)"
   ]
  },
  {
   "cell_type": "code",
   "execution_count": 19,
   "id": "ca5237a2",
   "metadata": {},
   "outputs": [
    {
     "name": "stdout",
     "output_type": "stream",
     "text": [
      "Error\n",
      "You passed all the tests! (disregard that it says Error above...it's supposed to do that)\n"
     ]
    }
   ],
   "source": [
    "'''Test your code'''\n",
    "\n",
    "X = np.array([[1, 2, 3], [4, 5, 6], [7, 8, 9]])\n",
    "Y = np.array([['you', 'got', 'this'],['!','correct','problem']])\n",
    "Z = np.array(['but','this','wont', 'work'])\n",
    "\n",
    "assert np.array(arrayEdges(X) == np.array([1, 2, 3, 6, 9, 8, 7, 4])).all()\n",
    "assert np.array(arrayEdges(Y) == np.array(['you', 'got', 'this', 'problem', 'correct', '!'])).all()\n",
    "assert arrayEdges(Z) == -1\n",
    "\n",
    "print(\"You passed all the tests! (disregard that it says Error above...it's supposed to do that)\")\n"
   ]
  },
  {
   "cell_type": "markdown",
   "id": "f943e82d",
   "metadata": {},
   "source": [
    "## Palmer's Penguins\n",
    "\n",
    "Below I've imported the Palmer's Penguins dataset, courtesy of Alison Horst's github. Fill in the blanks in Problem 4. You should add code cells below to write code to find the answers."
   ]
  },
  {
   "cell_type": "code",
   "execution_count": 20,
   "id": "ee42d632",
   "metadata": {},
   "outputs": [
    {
     "data": {
      "text/html": [
       "<div>\n",
       "<style scoped>\n",
       "    .dataframe tbody tr th:only-of-type {\n",
       "        vertical-align: middle;\n",
       "    }\n",
       "\n",
       "    .dataframe tbody tr th {\n",
       "        vertical-align: top;\n",
       "    }\n",
       "\n",
       "    .dataframe thead th {\n",
       "        text-align: right;\n",
       "    }\n",
       "</style>\n",
       "<table border=\"1\" class=\"dataframe\">\n",
       "  <thead>\n",
       "    <tr style=\"text-align: right;\">\n",
       "      <th></th>\n",
       "      <th>species</th>\n",
       "      <th>island</th>\n",
       "      <th>bill_length_mm</th>\n",
       "      <th>bill_depth_mm</th>\n",
       "      <th>flipper_length_mm</th>\n",
       "      <th>body_mass_g</th>\n",
       "      <th>sex</th>\n",
       "      <th>year</th>\n",
       "    </tr>\n",
       "  </thead>\n",
       "  <tbody>\n",
       "    <tr>\n",
       "      <th>0</th>\n",
       "      <td>Adelie</td>\n",
       "      <td>Torgersen</td>\n",
       "      <td>39.1</td>\n",
       "      <td>18.7</td>\n",
       "      <td>181.0</td>\n",
       "      <td>3750.0</td>\n",
       "      <td>male</td>\n",
       "      <td>2007</td>\n",
       "    </tr>\n",
       "    <tr>\n",
       "      <th>1</th>\n",
       "      <td>Adelie</td>\n",
       "      <td>Torgersen</td>\n",
       "      <td>39.5</td>\n",
       "      <td>17.4</td>\n",
       "      <td>186.0</td>\n",
       "      <td>3800.0</td>\n",
       "      <td>female</td>\n",
       "      <td>2007</td>\n",
       "    </tr>\n",
       "    <tr>\n",
       "      <th>2</th>\n",
       "      <td>Adelie</td>\n",
       "      <td>Torgersen</td>\n",
       "      <td>40.3</td>\n",
       "      <td>18.0</td>\n",
       "      <td>195.0</td>\n",
       "      <td>3250.0</td>\n",
       "      <td>female</td>\n",
       "      <td>2007</td>\n",
       "    </tr>\n",
       "    <tr>\n",
       "      <th>3</th>\n",
       "      <td>Adelie</td>\n",
       "      <td>Torgersen</td>\n",
       "      <td>NaN</td>\n",
       "      <td>NaN</td>\n",
       "      <td>NaN</td>\n",
       "      <td>NaN</td>\n",
       "      <td>NaN</td>\n",
       "      <td>2007</td>\n",
       "    </tr>\n",
       "    <tr>\n",
       "      <th>4</th>\n",
       "      <td>Adelie</td>\n",
       "      <td>Torgersen</td>\n",
       "      <td>36.7</td>\n",
       "      <td>19.3</td>\n",
       "      <td>193.0</td>\n",
       "      <td>3450.0</td>\n",
       "      <td>female</td>\n",
       "      <td>2007</td>\n",
       "    </tr>\n",
       "  </tbody>\n",
       "</table>\n",
       "</div>"
      ],
      "text/plain": [
       "  species     island  bill_length_mm  bill_depth_mm  flipper_length_mm  \\\n",
       "0  Adelie  Torgersen            39.1           18.7              181.0   \n",
       "1  Adelie  Torgersen            39.5           17.4              186.0   \n",
       "2  Adelie  Torgersen            40.3           18.0              195.0   \n",
       "3  Adelie  Torgersen             NaN            NaN                NaN   \n",
       "4  Adelie  Torgersen            36.7           19.3              193.0   \n",
       "\n",
       "   body_mass_g     sex  year  \n",
       "0       3750.0    male  2007  \n",
       "1       3800.0  female  2007  \n",
       "2       3250.0  female  2007  \n",
       "3          NaN     NaN  2007  \n",
       "4       3450.0  female  2007  "
      ]
     },
     "execution_count": 20,
     "metadata": {},
     "output_type": "execute_result"
    }
   ],
   "source": [
    "import pandas as pd\n",
    "\n",
    "pp_df = pd.read_csv('https://raw.githubusercontent.com/allisonhorst/palmerpenguins/main/inst/extdata/penguins.csv')\n",
    "pp_df.head()"
   ]
  },
  {
   "cell_type": "markdown",
   "id": "54a3fab2",
   "metadata": {},
   "source": [
    "### Problem 4\n",
    "\n",
    " 1. How many penguins were recorded? \n",
    "\n",
    "  - There are 333 penguins with complete measurements recorded.\n",
    "\n",
    " 2. In terms of body mass, how big were the smallest and biggest penguins measured?\n",
    "\n",
    "  - Smallest: 2700g\n",
    "  - Largest: 6300g\n",
    "\n",
    " 3. What species of penguins were recorded and how many of each?\n",
    "\n",
    " - Adelie:       152\n",
    " - Gentoo:       124\n",
    " - Chinstrap:     68"
   ]
  },
  {
   "cell_type": "code",
   "execution_count": 21,
   "id": "9363dc66",
   "metadata": {},
   "outputs": [
    {
     "name": "stdout",
     "output_type": "stream",
     "text": [
      "Number of penguins with complete records: 333\n",
      "Smallest penguin: 2700.0g\n",
      "Largest penguin: 6300.0g\n",
      "\n",
      "Number of penguins by species:\n",
      "species\n",
      "Adelie       152\n",
      "Gentoo       124\n",
      "Chinstrap     68\n",
      "Name: count, dtype: int64\n"
     ]
    }
   ],
   "source": [
    "num_penguins = pp_df.dropna().shape[0]\n",
    "print(f\"Number of penguins with complete records: {num_penguins}\")\n",
    "\n",
    "min_mass = pp_df['body_mass_g'].min()\n",
    "max_mass = pp_df['body_mass_g'].max()\n",
    "print(f\"Smallest penguin: {min_mass}g\")\n",
    "print(f\"Largest penguin: {max_mass}g\")\n",
    "\n",
    "species_counts = pp_df['species'].value_counts()\n",
    "print(\"\\nNumber of penguins by species:\")\n",
    "print(species_counts)"
   ]
  },
  {
   "cell_type": "markdown",
   "id": "f487bce0",
   "metadata": {},
   "source": [
    "### Problem 5\n",
    "\n",
    "Plot a histogram of the body masses of penguins grouped by species. Make sure to include a title, axis labels, and a legend."
   ]
  },
  {
   "cell_type": "code",
   "execution_count": 22,
   "id": "00b6d6ea",
   "metadata": {},
   "outputs": [
    {
     "data": {
      "image/png": "[encoded data removed]",
      "text/plain": [
       "<Figure size 1000x600 with 1 Axes>"
      ]
     },
     "metadata": {},
     "output_type": "display_data"
    }
   ],
   "source": [
    "'''your code here'''\n",
    "import matplotlib.pyplot as plt\n",
    "\n",
    "plt.figure(figsize=(10, 6))\n",
    "\n",
    "for species in pp_df['species'].unique():\n",
    "    species_data = pp_df[pp_df['species'] == species]['body_mass_g']\n",
    "    plt.hist(species_data, bins=15, alpha=0.5, label=species)\n",
    "\n",
    "plt.title('Distribution of Penguin Body Mass by Species', fontsize=12, pad=15)\n",
    "plt.xlabel('Body Mass (g)', fontsize=10)\n",
    "plt.ylabel('Frequency', fontsize=10)\n",
    "plt.legend()\n",
    "\n",
    "plt.grid(True, alpha=0.3)\n",
    "\n",
    "plt.show()"
   ]
  },
  {
   "cell_type": "markdown",
   "id": "25a9dd58-0368-4269-bf39-5d601ac58eb9",
   "metadata": {},
   "source": [
    "### Challenge Problem\n",
    "\n",
    "Write a function ```interleaveArrays``` that takes as arguments two numpy arrays A and B and return a new numpy array with the rows of A and B interleaved, starting with A. If you run out of rows from one matrix or the other complete the array with the remaining rows of the longer array.\n",
    "\n",
    "If the two arrays do not have the same number of columns, print('Error: Shapes of arrays are not compatible.') and return -1\n",
    "If the two arrays contain different data types, print('Error: Types of arrays are not compatible.') and return -2\n",
    "\n",
    "Example:\n",
    "\n",
    "```\n",
    "G = np.array([[1, 2, 3], [4, 5, 6]])\n",
    "H = np.array([[10, 20, 30], [100, 200, 300], [1000, 2000, 3000]])\n",
    "\n",
    "interleave(G,H)\n",
    "```\n",
    "returns\n",
    "```\n",
    "array([[1,2,3], [10,20,30], [4, 5, 6], [100, 200, 300], [1000, 2000, 3000]])\n",
    "```"
   ]
  },
  {
   "cell_type": "code",
   "execution_count": 23,
   "id": "825784c9-b952-450f-b667-13311d8e27cc",
   "metadata": {},
   "outputs": [],
   "source": [
    "'''your code here'''\n",
    "def interleave(A, B):\n",
    "    if A.shape[1] != B.shape[1]:\n",
    "        print('Error: Shapes of arrays are not compatible.')\n",
    "        return -1\n",
    "    \n",
    "    if A.dtype != B.dtype:\n",
    "        print('Error: Types of arrays are not compatible.')\n",
    "        return -1\n",
    "    \n",
    "    rows_A = A.shape[0]\n",
    "    rows_B = B.shape[0]\n",
    "    \n",
    "    total_rows = rows_A + rows_B\n",
    "    \n",
    "    result = np.zeros((total_rows, A.shape[1]), dtype=A.dtype)\n",
    "    \n",
    "    pos = 0\n",
    "    \n",
    "    for i in range(max(rows_A, rows_B)):\n",
    "        if i < rows_A:\n",
    "            result[pos] = A[i]\n",
    "            pos += 1\n",
    "            \n",
    "        if i < rows_B:\n",
    "            result[pos] = B[i]\n",
    "            pos += 1\n",
    "    \n",
    "    return result\n"
   ]
  },
  {
   "cell_type": "code",
   "execution_count": 24,
   "id": "733a22a2",
   "metadata": {},
   "outputs": [
    {
     "name": "stdout",
     "output_type": "stream",
     "text": [
      "You passed all the tests!\n"
     ]
    }
   ],
   "source": [
    "G = np.array([[1, 2, 3], [4, 5, 6]])\n",
    "H = np.array([[10, 20, 30], [100, 200, 300], [1000, 2000, 3000]])\n",
    "\n",
    "assert np.array((interleave(G, H) == np.array([[1,2,3], [10,20,30], [4, 5, 6], [100, 200, 300], [1000, 2000, 3000]]))).all()\n",
    "\n",
    "print(\"You passed all the tests!\")"
   ]
  },
  {
   "cell_type": "code",
   "execution_count": 32,
   "id": "4c7f7964",
   "metadata": {},
   "outputs": [
    {
     "name": "stdout",
     "output_type": "stream",
     "text": [
      "Galactic Longitude (°):\n",
      "353.57\n",
      "282.19\n",
      "  7.90\n",
      "  7.73\n",
      " 28.09\n",
      "  5.54\n",
      " 52.10\n",
      "  1.53\n",
      "307.35\n",
      " 53.38\n",
      "332.96\n",
      "328.41\n",
      "328.77\n",
      " 56.74\n",
      "  5.76\n",
      "342.14\n",
      " 20.30\n",
      "227.23\n",
      " 27.18\n",
      "357.56\n",
      "130.07\n",
      "  3.86\n",
      " 20.80\n",
      "337.02\n",
      "  0.85\n",
      "252.85\n",
      "346.90\n",
      " 87.10\n",
      " 19.23\n",
      " 14.10\n",
      "\n",
      "\n",
      "Galactic Latitude (°):\n",
      "  7.32\n",
      "-11.25\n",
      " -7.15\n",
      "  3.80\n",
      " 16.23\n",
      " 10.70\n",
      "-18.89\n",
      "-11.38\n",
      "-20.47\n",
      "-35.78\n",
      " 79.76\n",
      "  4.34\n",
      " -2.79\n",
      " -4.56\n",
      "-24.56\n",
      "-16.41\n",
      "-25.75\n",
      "-29.35\n",
      "-46.83\n",
      "  0.99\n",
      " 19.03\n",
      " 46.80\n",
      "  6.78\n",
      " 13.27\n",
      " 45.86\n",
      " 77.19\n",
      "-12.57\n",
      "-42.70\n",
      "  6.76\n",
      " -6.80\n",
      "\n",
      "\n",
      "Apparent Magnitude (m):\n",
      "14.94\n",
      "15.66\n",
      "15.66\n",
      "15.37\n",
      "17.33\n",
      "15.24\n",
      "16.73\n",
      "15.77\n",
      "17.13\n",
      "16.05\n",
      "17.00\n",
      "16.72\n",
      "15.04\n",
      "13.76\n",
      "17.82\n",
      "16.39\n",
      "17.33\n",
      "16.30\n",
      "15.27\n",
      "14.49\n",
      "15.94\n",
      "15.13\n",
      "15.37\n",
      "15.84\n",
      "17.58\n",
      "17.18\n",
      "17.43\n",
      "17.81\n",
      "15.92\n",
      "16.30\n",
      "\n",
      "\n",
      "Absolute Magnitude (M):\n",
      "0.75\n",
      "0.75\n",
      "0.75\n",
      "0.75\n",
      "0.75\n",
      "0.75\n",
      "0.75\n",
      "0.75\n",
      "0.75\n",
      "0.75\n",
      "0.75\n",
      "0.75\n",
      "0.75\n",
      "0.75\n",
      "0.75\n",
      "0.75\n",
      "0.75\n",
      "0.75\n",
      "0.75\n",
      "0.75\n",
      "0.75\n",
      "0.75\n",
      "0.75\n",
      "0.75\n",
      "0.75\n",
      "0.75\n",
      "0.75\n",
      "0.75\n",
      "0.75\n",
      "0.75\n",
      "\n",
      "\n",
      "Distance (kpc):\n",
      " 6.886523\n",
      " 9.594006\n",
      " 9.594006\n",
      " 8.394600\n",
      "20.701413\n",
      " 7.906786\n",
      "15.703628\n",
      "10.092529\n",
      "18.879913\n",
      "11.481536\n",
      "17.782794\n",
      "15.631476\n",
      " 7.211075\n",
      " 3.999447\n",
      "25.941794\n",
      "13.427650\n",
      "20.701413\n",
      "12.882496\n",
      " 8.016781\n",
      " 5.597576\n",
      "10.914403\n",
      " 7.516229\n",
      " 8.394600\n",
      "10.423174\n",
      "23.227368\n",
      "19.319683\n",
      "21.677041\n",
      "25.822602\n",
      "10.814340\n",
      "12.882496\n"
     ]
    }
   ],
   "source": [
    "import numpy as np\n",
    "import pandas as pd\n",
    "\n",
    "# Data (Apparent Magnitude for Globular Clusters)\n",
    "data = {\n",
    "    'Galactic Longitude (°)': [\n",
    "        353.57, 282.19, 7.9, 7.73, 28.09, 5.54, 52.1, 1.53, 307.35, 53.38, 332.96,\n",
    "        328.41, 328.77, 56.74, 5.76, 342.14, 20.3, 227.23, 27.18, 357.56, 130.07, 3.86,\n",
    "        20.8, 337.02, 0.85, 252.85, 346.9, 87.1, 19.23, 14.1\n",
    "    ],\n",
    "    'Galactic Latitude (°)': [\n",
    "        7.32, -11.25, -7.15, 3.8, 16.23, 10.7, -18.89, -11.38, -20.47, -35.78, 79.76,\n",
    "        4.34, -2.79, -4.56, -24.56, -16.41, -25.75, -29.35, -46.83, 0.99, 19.03, 46.8,\n",
    "        6.78, 13.27, 45.86, 77.19, -12.57, -42.7, 6.76, -6.8\n",
    "    ],\n",
    "    'Apparent Magnitude (m)': [\n",
    "        14.94, 15.66, 15.66, 15.37, 17.33, 15.24, 16.73, 15.77, 17.13, 16.05, 17.00, \n",
    "        16.72, 15.04, 13.76, 17.82, 16.39, 17.33, 16.30, 15.27, 14.49, 15.94, 15.13, \n",
    "        15.37, 15.84, 17.58, 17.18, 17.43, 17.81, 15.92, 16.30\n",
    "    ]\n",
    "}\n",
    "\n",
    "df = pd.DataFrame(data)\n",
    "\n",
    "# Assume average absolute magnitude for RR Lyrae stars\n",
    "M_rr_lyrae = 0.75\n",
    "\n",
    "# Calculate distance in parsecs (d) using the distance modulus formula:\n",
    "# d = 10^((m - M + 5) / 5)\n",
    "df['Distance (pc)'] = 10 ** ((df['Apparent Magnitude (m)'] - M_rr_lyrae + 5) / 5)\n",
    "\n",
    "# Convert distance from parsecs to kiloparsecs\n",
    "df['Distance (kpc)'] = df['Distance (pc)'] / 1000\n",
    "\n",
    "# Calculate RR Lyrae Average Absolute Magnitude (M) using the distance modulus formula:\n",
    "# M = m - 5 log10(d) + 5\n",
    "df['Absolute Magnitude (M)'] = df['Apparent Magnitude (m)'] - 5 * np.log10(df['Distance (pc)']) + 5\n",
    "\n",
    "# Display each column as a separate table\n",
    "\n",
    "# Galactic Longitude (°)\n",
    "print(\"Galactic Longitude (°):\")\n",
    "print(df['Galactic Longitude (°)'].to_string(index=False))\n",
    "print(\"\\n\")\n",
    "\n",
    "# Galactic Latitude (°)\n",
    "print(\"Galactic Latitude (°):\")\n",
    "print(df['Galactic Latitude (°)'].to_string(index=False))\n",
    "print(\"\\n\")\n",
    "\n",
    "# Apparent Magnitude (m)\n",
    "print(\"Apparent Magnitude (m):\")\n",
    "print(df['Apparent Magnitude (m)'].to_string(index=False))\n",
    "print(\"\\n\")\n",
    "\n",
    "# Absolute Magnitude (M)\n",
    "print(\"Absolute Magnitude (M):\")\n",
    "print(df['Absolute Magnitude (M)'].to_string(index=False))\n",
    "print(\"\\n\")\n",
    "\n",
    "# Distance (kpc)\n",
    "print(\"Distance (kpc):\")\n",
    "print(df['Distance (kpc)'].to_string(index=False))\n"
   ]
  },
  {
   "cell_type": "code",
   "execution_count": 37,
   "id": "940b1ad1",
   "metadata": {},
   "outputs": [
    {
     "name": "stdout",
     "output_type": "stream",
     "text": [
      "-5.646173149309915\n"
     ]
    }
   ],
   "source": [
    "cal = 7.52\n",
    "real = 7.97\n",
    "print(((cal - real) / real) * 100)"
   ]
  },
  {
   "cell_type": "code",
   "execution_count": 39,
   "id": "b975ae4b",
   "metadata": {},
   "outputs": [
    {
     "name": "stdout",
     "output_type": "stream",
     "text": [
      "NGC 1365 - Absolute Magnitude (M): -5.69\n",
      "NGC 1365 - Distance (kpc): 172646\n"
     ]
    }
   ],
   "source": [
    "import numpy as np\n",
    "\n",
    "def calculate_distance_and_magnitude(cepheid_period, apparent_magnitude):\n",
    "    absolute_magnitude = -2.81 * np.log10(cepheid_period) - 1.34\n",
    "    \n",
    "    distance_pc = 10 * 10**((apparent_magnitude - absolute_magnitude + 5) / 5)\n",
    "    \n",
    "    distance_kpc = distance_pc / 1000\n",
    "    \n",
    "    return absolute_magnitude, distance_kpc\n",
    "\n",
    "cepheid_period_ncg1365 = 35.2  # in days\n",
    "apparent_magnitude_ncg1365 = 25.5  # in magnitude\n",
    "\n",
    "# Call the function to calculate M and distance\n",
    "M, distance_kpc = calculate_distance_and_magnitude(cepheid_period_ncg1365, apparent_magnitude_ncg1365)\n",
    "\n",
    "print(f\"NGC 1365 - Absolute Magnitude (M): {M:.2f}\")\n",
    "print(f\"NGC 1365 - Distance (kpc): {distance_kpc:.0f}\")\n"
   ]
  },
  {
   "cell_type": "code",
   "execution_count": 48,
   "id": "4c5b3674",
   "metadata": {},
   "outputs": [
    {
     "name": "stdout",
     "output_type": "stream",
     "text": [
      "-5.91864097347864\n"
     ]
    },
    {
     "data": {
      "text/plain": [
       "12151.179698020602"
      ]
     },
     "execution_count": 48,
     "metadata": {},
     "output_type": "execute_result"
    }
   ],
   "source": [
    "M = -2.81 * np.log10(42.6) - 1.34\n",
    "m = 24.5\n",
    "\n",
    "print(M)\n",
    "\n",
    "0.01 * pow(1.585, m - M) "
   ]
  },
  {
   "cell_type": "code",
   "execution_count": 51,
   "id": "65df083d",
   "metadata": {},
   "outputs": [
    {
     "data": {
      "text/plain": [
       "0.12633666666666665"
      ]
     },
     "execution_count": 51,
     "metadata": {},
     "output_type": "execute_result"
    }
   ],
   "source": [
    "def ptkp(pixels):\n",
    "    \"\"\"\n",
    "    Convert pixels to kilopixels (kpx).\n",
    "    \n",
    "    Parameters:\n",
    "    pixels (int or float): The number of pixels to convert.\n",
    "    \n",
    "    Returns:\n",
    "    float: The equivalent number of kilopixels.\n",
    "    \"\"\"\n",
    "    return pixels / 1000\n",
    "\n",
    "ptkp(1141.426)\n",
    "\n",
    "def atd(arcminutes):\n",
    "    \"\"\"\n",
    "    Convert arcminutes to degrees.\n",
    "    \n",
    "    Parameters:\n",
    "    arcminutes (int or float): The number of arcminutes to convert.\n",
    "    \n",
    "    Returns:\n",
    "    float: The equivalent number of degrees.\n",
    "    \"\"\"\n",
    "    return arcminutes / 60\n",
    "\n",
    "atd(7.5802)"
   ]
  },
  {
   "cell_type": "code",
   "execution_count": null,
   "id": "92e3d68c",
   "metadata": {},
   "outputs": [],
   "source": [
    "import math\n",
    "\n",
    "def calculate_diameter(distance, angle):\n",
    "    \"\"\"\n",
    "    Calculate the diameter of an object from its angular size and distance.\n",
    "\n",
    "    Parameters:\n",
    "    distance (float): The distance to the object (in the same units as the desired diameter, e.g., kpc, light years).\n",
    "    angle (float): The angular size of the object (in degrees).\n",
    "\n",
    "    Returns:\n",
    "    float: The diameter of the object (in the same units as distance).\n",
    "    \"\"\"\n",
    "    # Calculate the diameter using the formula\n",
    "    diameter = 2 * math.pi * distance * (angle / 360)\n",
    "    return diameter\n"
   ]
  }
 ],
 "metadata": {
  "kernelspec": {
   "display_name": "Python 3 (ipykernel)",
   "language": "python",
   "name": "python3"
  },
  "language_info": {
   "codemirror_mode": {
    "name": "ipython",
    "version": 3
   },
   "file_extension": ".py",
   "mimetype": "text/x-python",
   "name": "python",
   "nbconvert_exporter": "python",
   "pygments_lexer": "ipython3",
   "version": "3.9.6"
  }
 },
 "nbformat": 4,
 "nbformat_minor": 5
}
